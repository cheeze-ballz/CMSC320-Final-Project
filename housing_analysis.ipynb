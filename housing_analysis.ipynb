{
  "cells": [
    {
      "cell_type": "markdown",
      "metadata": {},
      "source": [
        "\n"
      ]
    },
    {
      "cell_type": "markdown",
      "metadata": {},
      "source": [
        "Contains --> 'longitude', 'latitude', 'housing_median_age', 'total_rooms', 'total_bedrooms', 'population', 'households', 'median_income', 'median_house_value', 'ocean_proximity'"
      ]
    },
    {
      "cell_type": "markdown",
      "metadata": {},
      "source": [
        "## 1. Data Preprocessing\n",
        "\n",
        "### 1.1 Import Libraries\n"
      ]
    },
    {
      "cell_type": "code",
      "execution_count": 11,
      "metadata": {},
      "outputs": [
        {
          "name": "stdout",
          "output_type": "stream",
          "text": [
            "Libraries imported successfully!\n"
          ]
        }
      ],
      "source": [
        "import pandas as pd\n",
        "import numpy as np\n",
        "import matplotlib.pyplot as plt\n",
        "import seaborn as sns\n",
        "from scipy import stats\n",
        "from scipy.stats import normaltest, shapiro, anderson\n",
        "import warnings\n",
        "warnings.filterwarnings('ignore')\n",
        "\n",
        "# Set style for better plots\n",
        "plt.style.use('seaborn-v0_8')\n",
        "sns.set_palette(\"husl\")\n",
        "\n",
        "print(\"Libraries imported successfully!\")\n"
      ]
    },
    {
      "cell_type": "markdown",
      "metadata": {},
      "source": [
        "### 1.2 Load and Parse Data\n"
      ]
    },
    {
      "cell_type": "code",
      "execution_count": 12,
      "metadata": {},
      "outputs": [
        {
          "name": "stdout",
          "output_type": "stream",
          "text": [
            "Dataset loaded successfully!\n",
            "Dataset shape: (20640, 10)\n",
            "Columns: ['longitude', 'latitude', 'housing_median_age', 'total_rooms', 'total_bedrooms', 'population', 'households', 'median_income', 'median_house_value', 'ocean_proximity']\n"
          ]
        }
      ],
      "source": [
        "# Load the housing dataset\n",
        "df = pd.read_csv('housing.csv')\n",
        "\n",
        "print(\"Dataset loaded successfully!\")\n",
        "print(f\"Dataset shape: {df.shape}\")\n",
        "print(f\"Columns: {list(df.columns)}\")\n"
      ]
    },
    {
      "cell_type": "code",
      "execution_count": 13,
      "metadata": {},
      "outputs": [
        {
          "name": "stdout",
          "output_type": "stream",
          "text": [
            "Ocean Proximity - All Possible Values:\n",
            "==================================================\n",
            "Unique values in ocean_proximity:\n",
            "1. 'NEAR BAY': 2,290 records (11.09%)\n",
            "2. '<1H OCEAN': 9,136 records (44.26%)\n",
            "3. 'INLAND': 6,551 records (31.74%)\n",
            "4. 'NEAR OCEAN': 2,658 records (12.88%)\n",
            "5. 'ISLAND': 5 records (0.02%)\n",
            "\n",
            "Total categories: 5\n",
            "Data type: object\n"
          ]
        }
      ],
      "source": [
        "# Show all possible values for ocean_proximity\n",
        "print(\"Ocean Proximity - All Possible Values:\")\n",
        "print(\"=\"*50)\n",
        "print(\"Unique values in ocean_proximity:\")\n",
        "for i, value in enumerate(df['ocean_proximity'].unique(), 1):\n",
        "    count = (df['ocean_proximity'] == value).sum()\n",
        "    percentage = (count / len(df)) * 100\n",
        "    print(f\"{i}. '{value}': {count:,} records ({percentage:.2f}%)\")\n",
        "\n",
        "print(f\"\\nTotal categories: {df['ocean_proximity'].nunique()}\")\n",
        "print(f\"Data type: {df['ocean_proximity'].dtype}\")\n"
      ]
    },
    {
      "cell_type": "code",
      "execution_count": 14,
      "metadata": {},
      "outputs": [
        {
          "name": "stdout",
          "output_type": "stream",
          "text": [
            "First 5 rows:\n",
            "   longitude  latitude  housing_median_age  total_rooms  total_bedrooms  \\\n",
            "0    -122.23     37.88                41.0        880.0           129.0   \n",
            "1    -122.22     37.86                21.0       7099.0          1106.0   \n",
            "2    -122.24     37.85                52.0       1467.0           190.0   \n",
            "3    -122.25     37.85                52.0       1274.0           235.0   \n",
            "4    -122.25     37.85                52.0       1627.0           280.0   \n",
            "\n",
            "   population  households  median_income  median_house_value ocean_proximity  \n",
            "0       322.0       126.0         8.3252            452600.0        NEAR BAY  \n",
            "1      2401.0      1138.0         8.3014            358500.0        NEAR BAY  \n",
            "2       496.0       177.0         7.2574            352100.0        NEAR BAY  \n",
            "3       558.0       219.0         5.6431            341300.0        NEAR BAY  \n",
            "4       565.0       259.0         3.8462            342200.0        NEAR BAY  \n",
            "\n",
            "==================================================\n",
            "\n",
            "Dataset Info:\n",
            "<class 'pandas.core.frame.DataFrame'>\n",
            "RangeIndex: 20640 entries, 0 to 20639\n",
            "Data columns (total 10 columns):\n",
            " #   Column              Non-Null Count  Dtype  \n",
            "---  ------              --------------  -----  \n",
            " 0   longitude           20640 non-null  float64\n",
            " 1   latitude            20640 non-null  float64\n",
            " 2   housing_median_age  20640 non-null  float64\n",
            " 3   total_rooms         20640 non-null  float64\n",
            " 4   total_bedrooms      20433 non-null  float64\n",
            " 5   population          20640 non-null  float64\n",
            " 6   households          20640 non-null  float64\n",
            " 7   median_income       20640 non-null  float64\n",
            " 8   median_house_value  20640 non-null  float64\n",
            " 9   ocean_proximity     20640 non-null  object \n",
            "dtypes: float64(9), object(1)\n",
            "memory usage: 1.6+ MB\n",
            "None\n",
            "\n",
            "==================================================\n",
            "\n",
            "Basic Statistics:\n",
            "          longitude      latitude  housing_median_age   total_rooms  \\\n",
            "count  20640.000000  20640.000000        20640.000000  20640.000000   \n",
            "mean    -119.569704     35.631861           28.639486   2635.763081   \n",
            "std        2.003532      2.135952           12.585558   2181.615252   \n",
            "min     -124.350000     32.540000            1.000000      2.000000   \n",
            "25%     -121.800000     33.930000           18.000000   1447.750000   \n",
            "50%     -118.490000     34.260000           29.000000   2127.000000   \n",
            "75%     -118.010000     37.710000           37.000000   3148.000000   \n",
            "max     -114.310000     41.950000           52.000000  39320.000000   \n",
            "\n",
            "       total_bedrooms    population    households  median_income  \\\n",
            "count    20433.000000  20640.000000  20640.000000   20640.000000   \n",
            "mean       537.870553   1425.476744    499.539680       3.870671   \n",
            "std        421.385070   1132.462122    382.329753       1.899822   \n",
            "min          1.000000      3.000000      1.000000       0.499900   \n",
            "25%        296.000000    787.000000    280.000000       2.563400   \n",
            "50%        435.000000   1166.000000    409.000000       3.534800   \n",
            "75%        647.000000   1725.000000    605.000000       4.743250   \n",
            "max       6445.000000  35682.000000   6082.000000      15.000100   \n",
            "\n",
            "       median_house_value  \n",
            "count        20640.000000  \n",
            "mean        206855.816909  \n",
            "std         115395.615874  \n",
            "min          14999.000000  \n",
            "25%         119600.000000  \n",
            "50%         179700.000000  \n",
            "75%         264725.000000  \n",
            "max         500001.000000  \n"
          ]
        }
      ],
      "source": [
        "# Display first few rows and basic info\n",
        "print(\"First 5 rows:\")\n",
        "print(df.head())\n",
        "print(\"\\n\" + \"=\"*50 + \"\\n\")\n",
        "print(\"Dataset Info:\")\n",
        "print(df.info())\n",
        "print(\"\\n\" + \"=\"*50 + \"\\n\")\n",
        "print(\"Basic Statistics:\")\n",
        "print(df.describe())\n"
      ]
    },
    {
      "cell_type": "markdown",
      "metadata": {},
      "source": [
        "### 1.3 Data Cleaning and Organization\n"
      ]
    },
    {
      "cell_type": "code",
      "execution_count": 15,
      "metadata": {},
      "outputs": [
        {
          "name": "stdout",
          "output_type": "stream",
          "text": [
            "Missing values per column:\n",
            "longitude               0\n",
            "latitude                0\n",
            "housing_median_age      0\n",
            "total_rooms             0\n",
            "total_bedrooms        207\n",
            "population              0\n",
            "households              0\n",
            "median_income           0\n",
            "median_house_value      0\n",
            "ocean_proximity         0\n",
            "dtype: int64\n",
            "\n",
            "Total missing values: 207\n",
            "\n",
            "Filled 0 missing values in total_bedrooms\n",
            "\n",
            "Data cleaning completed!\n",
            "Final dataset shape: (20640, 10)\n",
            "Data types:\n",
            "longitude              float64\n",
            "latitude               float64\n",
            "housing_median_age     float64\n",
            "total_rooms            float64\n",
            "total_bedrooms         float64\n",
            "population             float64\n",
            "households             float64\n",
            "median_income          float64\n",
            "median_house_value     float64\n",
            "ocean_proximity       category\n",
            "dtype: object\n"
          ]
        }
      ],
      "source": [
        "# Check for missing values\n",
        "print(\"Missing values per column:\")\n",
        "print(df.isnull().sum())\n",
        "print(f\"\\nTotal missing values: {df.isnull().sum().sum()}\")\n",
        "\n",
        "# Handle missing values in total_bedrooms (the only column with missing values)\n",
        "if df['total_bedrooms'].isnull().sum() > 0:\n",
        "    # Fill missing values with median\n",
        "    df['total_bedrooms'].fillna(df['total_bedrooms'].median(), inplace=True)\n",
        "    print(f\"\\nFilled {df['total_bedrooms'].isnull().sum()} missing values in total_bedrooms\")\n",
        "\n",
        "# Convert ocean_proximity to categorical\n",
        "df['ocean_proximity'] = df['ocean_proximity'].astype('category')\n",
        "\n",
        "print(\"\\nData cleaning completed!\")\n",
        "print(f\"Final dataset shape: {df.shape}\")\n",
        "print(f\"Data types:\\n{df.dtypes}\")\n"
      ]
    },
    {
      "cell_type": "markdown",
      "metadata": {},
      "source": [
        "## 2. Basic Data Exploration and Summary Statistics\n"
      ]
    },
    {
      "cell_type": "code",
      "execution_count": 16,
      "metadata": {},
      "outputs": [
        {
          "name": "stdout",
          "output_type": "stream",
          "text": [
            "============================================================\n",
            "DATASET SUMMARY\n",
            "============================================================\n",
            "Dataset Dimensions: 20640 rows × 10 columns\n",
            "Memory Usage: 1.44 MB\n",
            "\n",
            "========================================\n",
            "NUMERICAL FEATURES SUMMARY\n",
            "========================================\n",
            "          longitude      latitude  housing_median_age   total_rooms  \\\n",
            "count  20640.000000  20640.000000        20640.000000  20640.000000   \n",
            "mean    -119.569704     35.631861           28.639486   2635.763081   \n",
            "std        2.003532      2.135952           12.585558   2181.615252   \n",
            "min     -124.350000     32.540000            1.000000      2.000000   \n",
            "25%     -121.800000     33.930000           18.000000   1447.750000   \n",
            "50%     -118.490000     34.260000           29.000000   2127.000000   \n",
            "75%     -118.010000     37.710000           37.000000   3148.000000   \n",
            "max     -114.310000     41.950000           52.000000  39320.000000   \n",
            "\n",
            "       total_bedrooms    population    households  median_income  \\\n",
            "count    20640.000000  20640.000000  20640.000000   20640.000000   \n",
            "mean       536.838857   1425.476744    499.539680       3.870671   \n",
            "std        419.391878   1132.462122    382.329753       1.899822   \n",
            "min          1.000000      3.000000      1.000000       0.499900   \n",
            "25%        297.000000    787.000000    280.000000       2.563400   \n",
            "50%        435.000000   1166.000000    409.000000       3.534800   \n",
            "75%        643.250000   1725.000000    605.000000       4.743250   \n",
            "max       6445.000000  35682.000000   6082.000000      15.000100   \n",
            "\n",
            "       median_house_value  \n",
            "count        20640.000000  \n",
            "mean        206855.816909  \n",
            "std         115395.615874  \n",
            "min          14999.000000  \n",
            "25%         119600.000000  \n",
            "50%         179700.000000  \n",
            "75%         264725.000000  \n",
            "max         500001.000000  \n",
            "\n",
            "========================================\n",
            "CATEGORICAL FEATURES SUMMARY\n",
            "========================================\n",
            "\n",
            "ocean_proximity:\n",
            "  Unique values: 5\n",
            "  Value counts:\n",
            "ocean_proximity\n",
            "<1H OCEAN     9136\n",
            "INLAND        6551\n",
            "NEAR OCEAN    2658\n",
            "NEAR BAY      2290\n",
            "ISLAND           5\n",
            "Name: count, dtype: int64\n"
          ]
        }
      ],
      "source": [
        "# Basic summary statistics\n",
        "print(\"=\"*60)\n",
        "print(\"DATASET SUMMARY\")\n",
        "print(\"=\"*60)\n",
        "\n",
        "print(f\"Dataset Dimensions: {df.shape[0]} rows × {df.shape[1]} columns\")\n",
        "print(f\"Memory Usage: {df.memory_usage(deep=True).sum() / 1024**2:.2f} MB\")\n",
        "\n",
        "print(\"\\n\" + \"=\"*40)\n",
        "print(\"NUMERICAL FEATURES SUMMARY\")\n",
        "print(\"=\"*40)\n",
        "numerical_cols = df.select_dtypes(include=[np.number]).columns\n",
        "print(df[numerical_cols].describe())\n",
        "\n",
        "print(\"\\n\" + \"=\"*40)\n",
        "print(\"CATEGORICAL FEATURES SUMMARY\")\n",
        "print(\"=\"*40)\n",
        "categorical_cols = df.select_dtypes(include=['category', 'object']).columns\n",
        "for col in categorical_cols:\n",
        "    print(f\"\\n{col}:\")\n",
        "    print(f\"  Unique values: {df[col].nunique()}\")\n",
        "    print(f\"  Value counts:\")\n",
        "    print(df[col].value_counts().head(10))\n"
      ]
    },
    {
      "cell_type": "markdown",
      "metadata": {},
      "source": [
        "\n"
      ]
    },
    {
      "cell_type": "code",
      "execution_count": null,
      "metadata": {},
      "outputs": [],
      "source": [
        "\n"
      ]
    },
    {
      "cell_type": "code",
      "execution_count": null,
      "metadata": {},
      "outputs": [],
      "source": [
        "\n"
      ]
    },
    {
      "cell_type": "markdown",
      "metadata": {},
      "source": [
        "\n"
      ]
    },
    {
      "cell_type": "code",
      "execution_count": null,
      "metadata": {},
      "outputs": [],
      "source": [
        "\n"
      ]
    },
    {
      "cell_type": "code",
      "execution_count": null,
      "metadata": {},
      "outputs": [],
      "source": [
        "\n"
      ]
    },
    {
      "cell_type": "markdown",
      "metadata": {},
      "source": [
        "\n"
      ]
    },
    {
      "cell_type": "code",
      "execution_count": null,
      "metadata": {},
      "outputs": [],
      "source": [
        "\n"
      ]
    },
    {
      "cell_type": "code",
      "execution_count": null,
      "metadata": {},
      "outputs": [],
      "source": [
        "\n"
      ]
    },
    {
      "cell_type": "markdown",
      "metadata": {},
      "source": [
        "\n"
      ]
    },
    {
      "cell_type": "markdown",
      "metadata": {},
      "source": [
        "\n"
      ]
    },
    {
      "cell_type": "markdown",
      "metadata": {},
      "source": []
    }
  ],
  "metadata": {
    "kernelspec": {
      "display_name": "base",
      "language": "python",
      "name": "python3"
    },
    "language_info": {
      "codemirror_mode": {
        "name": "ipython",
        "version": 3
      },
      "file_extension": ".py",
      "mimetype": "text/x-python",
      "name": "python",
      "nbconvert_exporter": "python",
      "pygments_lexer": "ipython3",
      "version": "3.13.5"
    }
  },
  "nbformat": 4,
  "nbformat_minor": 2
}
